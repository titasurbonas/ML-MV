{
 "cells": [
  {
   "cell_type": "code",
   "execution_count": 127,
   "metadata": {},
   "outputs": [
    {
     "name": "stdout",
     "output_type": "stream",
     "text": [
      "(5830, 4096)\n",
      "-------\n",
      "(5830,)\n"
     ]
    }
   ],
   "source": [
    "\n",
    "from numpy import genfromtxt\n",
    "\n",
    "Train = genfromtxt('./Train/trainVectors.csv', delimiter=',')\n",
    "Train = Train.transpose()\n",
    "\n",
    "Labels= genfromtxt('./Train/trainLbls.csv')\n",
    "\n",
    "Validate = genfromtxt('./Validation/valVectors.csv', delimiter=',')\n",
    "Validate = Validate.transpose()\n",
    "\n",
    "Vlabels= genfromtxt('./Validation/valLbls.csv')\n",
    "\n",
    "\n",
    "print(Train.shape)\n",
    "print(\"-------\")\n",
    "print(Labels.shape)"
   ]
  },
  {
   "cell_type": "code",
   "execution_count": 128,
   "metadata": {},
   "outputs": [
    {
     "name": "stdout",
     "output_type": "stream",
     "text": [
      "[0.    5.789 0.    ... 0.    0.    0.   ]\n",
      "1.0\n"
     ]
    }
   ],
   "source": [
    "idx = np.random.permutation(len(Train))\n",
    "x,y = Train[idx], Labels[idx]\n",
    "\n",
    "\n",
    "print(Train[0])\n",
    "print(Labels[0])\n"
   ]
  },
  {
   "cell_type": "code",
   "execution_count": 147,
   "metadata": {},
   "outputs": [
    {
     "name": "stdout",
     "output_type": "stream",
     "text": [
      "Train on 5830 samples, validate on 2298 samples\n",
      "Epoch 1/10\n",
      "5830/5830 [==============================] - 7s 1ms/step - loss: 3.3652 - acc: 0.0484 - val_loss: 3.2257 - val_acc: 0.0505\n",
      "Epoch 2/10\n",
      "5830/5830 [==============================] - 6s 1ms/step - loss: 3.0798 - acc: 0.0976 - val_loss: 2.7360 - val_acc: 0.1262\n",
      "Epoch 3/10\n",
      "5830/5830 [==============================] - 6s 970us/step - loss: 2.1953 - acc: 0.2650 - val_loss: 2.2876 - val_acc: 0.3329\n",
      "Epoch 4/10\n",
      "5830/5830 [==============================] - 6s 969us/step - loss: 1.2179 - acc: 0.5640 - val_loss: 1.4144 - val_acc: 0.5988\n",
      "Epoch 5/10\n",
      "5830/5830 [==============================] - 6s 974us/step - loss: 0.7459 - acc: 0.7355 - val_loss: 1.4250 - val_acc: 0.6423\n",
      "Epoch 6/10\n",
      "5830/5830 [==============================] - 6s 970us/step - loss: 0.5427 - acc: 0.8127 - val_loss: 1.6372 - val_acc: 0.6319\n",
      "Epoch 7/10\n",
      "5830/5830 [==============================] - 6s 960us/step - loss: 0.4243 - acc: 0.8564 - val_loss: 1.5234 - val_acc: 0.6775\n",
      "Epoch 8/10\n",
      "5830/5830 [==============================] - 5s 933us/step - loss: 0.3443 - acc: 0.8870 - val_loss: 1.5402 - val_acc: 0.6775\n",
      "Epoch 9/10\n",
      "5830/5830 [==============================] - 6s 1ms/step - loss: 0.2553 - acc: 0.9180 - val_loss: 1.7070 - val_acc: 0.6923\n",
      "Epoch 10/10\n",
      "5830/5830 [==============================] - 5s 931us/step - loss: 0.2168 - acc: 0.9273 - val_loss: 1.6271 - val_acc: 0.7054\n"
     ]
    },
    {
     "data": {
      "text/plain": [
       "<keras.callbacks.History at 0x1ff93e28e10>"
      ]
     },
     "execution_count": 147,
     "metadata": {},
     "output_type": "execute_result"
    }
   ],
   "source": [
    "import keras\n",
    "from keras.models import Sequential\n",
    "from keras.layers import Dense\n",
    "from keras.layers import Flatten\n",
    "from keras.optimizers import SGD\n",
    "\n",
    "from numpy.random import seed\n",
    "seed(1)\n",
    "from tensorflow import set_random_seed\n",
    "set_random_seed(2)\n",
    "\n",
    "model6Layer = Sequential()\n",
    "\n",
    "#model6Layer.add(Flatten())\n",
    "\n",
    "model6Layer.add(Dense(input_shape = (4096,), units = 256 , activation='relu',use_bias=True, kernel_initializer='uniform'))\n",
    "\n",
    "model6Layer.add(Dense(units = 1024, activation='relu',use_bias=True, kernel_initializer='uniform'))\n",
    "\n",
    "model6Layer.add(Dense(units = 512, activation='relu', use_bias=True,kernel_initializer='uniform'))\n",
    "\n",
    "model6Layer.add(Dense(units = 265, activation='relu', use_bias=True,kernel_initializer='uniform'))\n",
    "\n",
    "model6Layer.add(Dense(units = 128, activation='relu', use_bias=True,kernel_initializer='uniform'))\n",
    "\n",
    "model6Layer.add(Dense(units = 64, activation='relu', use_bias=True,kernel_initializer='uniform'))\n",
    "\n",
    "model6Layer.add(Dense(units = 30, activation='softmax',use_bias=True, kernel_initializer='uniform'))\n",
    "\n",
    "sgd = SGD(lr=0.01, decay=1e-6, momentum=0.9, nesterov=True)\n",
    "\n",
    "model6Layer.compile(optimizer=sgd, loss='mean_squared_error', metrics=['mse'])\n",
    "\n",
    "model6Layer.fit(x,y ,validation_data=(Validate,Vlabels),epochs=10, shuffle=False)\n",
    "\n"
   ]
  },
  {
   "cell_type": "code",
   "execution_count": 130,
   "metadata": {},
   "outputs": [
    {
     "name": "stdout",
     "output_type": "stream",
     "text": [
      "Train on 5830 samples, validate on 2298 samples\n",
      "Epoch 1/1\n",
      "5830/5830 [==============================] - 24s 4ms/step - loss: 1.4929 - acc: 0.4940 - val_loss: 1.3584 - val_acc: 0.5836\n"
     ]
    },
    {
     "data": {
      "text/plain": [
       "<keras.callbacks.History at 0x1ff93f2af60>"
      ]
     },
     "execution_count": 130,
     "metadata": {},
     "output_type": "execute_result"
    }
   ],
   "source": [
    "import keras\n",
    "from keras.models import Sequential\n",
    "from keras.layers import Dense\n",
    "from keras.layers import Flatten\n",
    "model = Sequential()\n",
    "\n",
    "#model.add(Flatten())\n",
    "\n",
    "model.add(Dense(input_shape = (4096,), units = 256 , activation=None,use_bias=True, kernel_initializer='uniform'))\n",
    "\n",
    "model.add(Dense(units = 2048, activation='relu',use_bias=True, kernel_initializer='uniform'))\n",
    "\n",
    "model.add(Dense(units = 1024, activation='relu', use_bias=True,kernel_initializer='uniform'))\n",
    "\n",
    "model.add(Dense(units = 512, activation='relu', use_bias=True,kernel_initializer='uniform'))\n",
    "\n",
    "model.add(Dense(units = 256, activation='relu', use_bias=True,kernel_initializer='uniform'))\n",
    "\n",
    "\n",
    "model.add(Dense(units = 40, activation='sigmoid',use_bias=True, kernel_initializer='uniform'))\n",
    "\n",
    "model.compile(optimizer='adam', loss='sparse_categorical_crossentropy', metrics=['accuracy'])\n",
    "\n",
    "model.fit(Train,Labels ,validation_data=(Validate,Vlabels),epochs=1)"
   ]
  },
  {
   "cell_type": "code",
   "execution_count": 94,
   "metadata": {},
   "outputs": [
    {
     "name": "stdout",
     "output_type": "stream",
     "text": [
      "0.6827676240208878\n"
     ]
    }
   ],
   "source": [
    "from sklearn.neighbors import KNeighborsClassifier\n",
    "nnc = KNeighborsClassifier(n_neighbors=5)\n",
    "nnc.fit(Train, Labels) \n",
    "print(nnc.score(Validate, Vlabels))"
   ]
  },
  {
   "cell_type": "code",
   "execution_count": 96,
   "metadata": {},
   "outputs": [],
   "source": [
    "NCCres = nnc.predict_proba(Test)"
   ]
  },
  {
   "cell_type": "code",
   "execution_count": 89,
   "metadata": {},
   "outputs": [
    {
     "name": "stdout",
     "output_type": "stream",
     "text": [
      "2298/2298 [==============================] - 1s 237us/step\n"
     ]
    },
    {
     "data": {
      "text/plain": [
       "[1.4780645560906038, 0.6436031332370817]"
      ]
     },
     "execution_count": 89,
     "metadata": {},
     "output_type": "execute_result"
    }
   ],
   "source": [
    "Validate = genfromtxt('./Validation/valVectors.csv', delimiter=',')\n",
    "\n",
    "Vlabels= genfromtxt('./Validation/valLbls.csv')\n",
    "Validate = Validate.transpose()\n",
    "\n",
    "model.evaluate(Validate, Vlabels)\n"
   ]
  },
  {
   "cell_type": "code",
   "execution_count": 90,
   "metadata": {},
   "outputs": [],
   "source": [
    "Test = genfromtxt('./Test/testVectors.csv', delimiter=',')\n",
    "Test = Test.transpose()\n",
    "result = model.predict(Test)"
   ]
  },
  {
   "cell_type": "code",
   "execution_count": 99,
   "metadata": {},
   "outputs": [
    {
     "data": {
      "text/plain": [
       "12"
      ]
     },
     "execution_count": 99,
     "metadata": {},
     "output_type": "execute_result"
    }
   ],
   "source": [
    "np.argmax(NCCres[1]+1)"
   ]
  },
  {
   "cell_type": "code",
   "execution_count": 91,
   "metadata": {},
   "outputs": [],
   "source": [
    "import csv\n",
    "\n",
    "with open('results.csv', mode='w') as results_file:\n",
    "    results_file = csv.writer(results_file, delimiter=',',lineterminator='\\n', quotechar='\"')\n",
    "    results_file.writerow([\"ID\",\"Label\"])\n",
    "    i = 1\n",
    "    for x in result:\n",
    "        results_file.writerow([i,np.argmax(x)])\n",
    "        i += 1"
   ]
  },
  {
   "cell_type": "code",
   "execution_count": 102,
   "metadata": {},
   "outputs": [],
   "source": [
    "import csv\n",
    "\n",
    "with open('NCCres.csv', mode='w') as results_file:\n",
    "    results_file = csv.writer(results_file, delimiter=',',lineterminator='\\n', quotechar='\"')\n",
    "    results_file.writerow([\"ID\",\"Label\"])\n",
    "    i = 1\n",
    "    for x in NCCres:\n",
    "        results_file.writerow([i,np.argmax(x)+1])\n",
    "        i += 1"
   ]
  },
  {
   "cell_type": "code",
   "execution_count": null,
   "metadata": {},
   "outputs": [],
   "source": []
  }
 ],
 "metadata": {
  "kernelspec": {
   "display_name": "Python 3",
   "language": "python",
   "name": "python3"
  },
  "language_info": {
   "codemirror_mode": {
    "name": "ipython",
    "version": 3
   },
   "file_extension": ".py",
   "mimetype": "text/x-python",
   "name": "python",
   "nbconvert_exporter": "python",
   "pygments_lexer": "ipython3",
   "version": "3.6.7"
  }
 },
 "nbformat": 4,
 "nbformat_minor": 2
}
